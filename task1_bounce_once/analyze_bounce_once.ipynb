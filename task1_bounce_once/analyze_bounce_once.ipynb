{
 "cells": [
  {
   "cell_type": "code",
   "execution_count": 1,
   "metadata": {},
   "outputs": [
    {
     "name": "stdout",
     "output_type": "stream",
     "text": [
      "gradient of height w.r.t. initial position dh/dx0: tensor([ 0.0000, -1.0000])\n",
      "gradient of height w.r.t. initial velocity dh/dv0: tensor([-7.8127e-07, -9.9559e-01])\n",
      "gradient of height w.r.t. initial ctrl dh/du0: tensor([-1.6276e-09, -2.0698e-03])\n"
     ]
    }
   ],
   "source": [
    "import os\n",
    "import torch\n",
    "import cvxpy as cp\n",
    "from cvxpylayers.torch import CvxpyLayer\n",
    "from torchdiffeq import odeint\n",
    "from omegaconf import OmegaConf\n",
    "\n",
    "import os\n",
    "import numpy as np\n",
    "import matplotlib.pyplot as plt\n",
    "\n",
    "from matplotlib import rc\n",
    "rc('text', usetex=True)\n",
    "rc('pdf', fonttype=42)\n",
    "rc('ps', fonttype=42)\n",
    "# plt.rcParams[\"font.family\"] = \"Times New Roman\"\n",
    "plt.rcParams['font.family'] = 'serif'\n",
    "plt.rcParams['font.serif'] = ['Times New Roman'] + plt.rcParams['font.serif']\n",
    "\n",
    "THIS_DIR = os.path.dirname(os.path.realpath(\"__file__\"))\n",
    "SAVE_DIR = os.path.join(THIS_DIR, \"results\")\n",
    "FIG_DIR = os.path.join(THIS_DIR, \"figures\")\n",
    "os.makedirs(FIG_DIR, exist_ok=True)\n",
    "\n",
    "yaml_cfg = OmegaConf.load(os.path.join(THIS_DIR, 'bounce_once.yaml'))\n",
    "cli_cfg = OmegaConf.from_cli()\n",
    "\n",
    "cfg = OmegaConf.merge(yaml_cfg, cli_cfg)\n",
    "cfg.dt = cfg.simulation_time / cfg.steps # 1./480\n",
    "# cfg.name = os.path.basename(__file__)[:-3]\n",
    "cfg.THIS_DIR = THIS_DIR\n",
    "\n",
    "\n",
    "def calculate_vel_impulse(rela_v, cfg):\n",
    "    # set up differentiable optimization problem\n",
    "    f = cp.Variable((2, 1)) # [f_t, f_n]\n",
    "    A_decom_p = cp.Parameter((2, 2))\n",
    "    v_p = cp.Parameter((2, 1))\n",
    "    objective = cp.Minimize(0.5 * cp.sum_squares(A_decom_p @ f) + cp.sum(cp.multiply(f, v_p)))\n",
    "    constraints = [\n",
    "        f[0] == 0, # no friction f_t == 0\n",
    "        f[1] >= 0, # normal impulse should be creater than zero\n",
    "    ]\n",
    "    problem = cp.Problem(objective, constraints)\n",
    "    cvxpylayer = CvxpyLayer(problem, parameters=[A_decom_p, v_p], variables=[f])\n",
    "\n",
    "    # feed values to the layer\n",
    "    impulse, = cvxpylayer(\n",
    "        torch.eye(2, requires_grad=True), # here we assmue mass m=1 and contact Jacobian Jac=I\n",
    "        rela_v.reshape(-1, 1),\n",
    "    )\n",
    "    return impulse[:, 0] * (1 + cfg.elasticity) # elastic collision\n",
    "\n",
    "def collide(x, v, cfg):\n",
    "    vel_impulse = torch.zeros(2, requires_grad=True)\n",
    "    x_inc = torch.zeros(2, requires_grad=True)\n",
    "    dist_norm = x[1] + v[1] * cfg.dt\n",
    "    rela_v = v\n",
    "    if dist_norm < cfg.radius:\n",
    "        dir = torch.tensor([0.0, 1.0])\n",
    "        projected_v = torch.dot(dir, rela_v)\n",
    "        if projected_v < 0:\n",
    "            imp = calculate_vel_impulse(rela_v, cfg)\n",
    "            toi = (dist_norm - cfg.radius) / min(\n",
    "                -1e-3, projected_v\n",
    "            ) # time of impact\n",
    "            x_inc_contrib = min(toi - cfg.dt, 0) * imp\n",
    "            # udpate\n",
    "            x_inc = x_inc + x_inc_contrib\n",
    "            vel_impulse = vel_impulse + imp\n",
    "    return vel_impulse, x_inc\n",
    "\n",
    "def dynamics_for_odeint(t, x_v_u):\n",
    "    x, v, u = x_v_u\n",
    "    dv = u\n",
    "    dx = v\n",
    "    du = torch.zeros_like(u)\n",
    "    return dx, dv, du\n",
    "\n",
    "def simulate(state, ctrl, cfg):\n",
    "    x = state[0:2]\n",
    "    v = state[2:4]\n",
    "    vel_impulse, x_inc = collide(x, v, cfg)\n",
    "    if not cfg.toi:\n",
    "        x_inc = torch.zeros_like(x_inc)\n",
    "    if cfg.method == \"symplectic_euler\":\n",
    "        new_v = v + vel_impulse + ctrl * cfg.dt\n",
    "        new_x = x + v * cfg.dt + x_inc\n",
    "    else:\n",
    "        new_xs, new_vs, _ = odeint(\n",
    "            dynamics_for_odeint, \n",
    "            (x, v, ctrl), \n",
    "            torch.tensor([0.0, cfg.dt]), \n",
    "            method=cfg.method\n",
    "        )\n",
    "        new_x = new_xs[-1] + x_inc\n",
    "        new_v = new_vs[-1] + vel_impulse\n",
    "    return torch.cat([new_x, new_v], dim=0)\n",
    "\n",
    "\n",
    "# initiate torch tensors for simulation\n",
    "initial_position = torch.tensor(cfg.init_pos, requires_grad=True)\n",
    "initial_velocity = torch.tensor(cfg.init_vel, requires_grad=True)\n",
    "ctrls = torch.tensor([cfg.ctrl_input for _ in range(cfg.steps)], requires_grad=True)\n",
    "# simulate\n",
    "state = torch.cat([initial_position, initial_velocity], dim=0)\n",
    "states = [state]\n",
    "for i in range(cfg.steps):\n",
    "    state = simulate(state, ctrls[i], cfg)\n",
    "    states.append(state)\n",
    "    # print(f\"Iter: {i}, state: {state}\")\n",
    "\n",
    "final_height = states[-1][1]\n",
    "final_height.backward()\n",
    "\n",
    "print(f\"gradient of height w.r.t. initial position dh/dx0: {initial_position.grad}\")\n",
    "print(f\"gradient of height w.r.t. initial velocity dh/dv0: {initial_velocity.grad}\")\n",
    "print(f\"gradient of height w.r.t. initial ctrl dh/du0: {ctrls.grad[0]}\")\n",
    "\n"
   ]
  },
  {
   "cell_type": "code",
   "execution_count": 2,
   "metadata": {},
   "outputs": [],
   "source": [
    "traj = torch.stack(states)"
   ]
  },
  {
   "cell_type": "code",
   "execution_count": 3,
   "metadata": {},
   "outputs": [
    {
     "data": {
      "text/plain": [
       "<matplotlib.patches.Circle at 0x7fb42001d8e0>"
      ]
     },
     "execution_count": 3,
     "metadata": {},
     "output_type": "execute_result"
    },
    {
     "data": {
      "image/png": "[encoded data removed]",
      "text/plain": [
       "<Figure size 1800x900 with 1 Axes>"
      ]
     },
     "metadata": {
      "needs_background": "light"
     },
     "output_type": "display_data"
    }
   ],
   "source": [
    "fig, ax = plt.subplots(1, 1, figsize=(6, 3), dpi=300)\n",
    "ax.set_aspect('equal')\n",
    "ax.set(ylim=(-0.05, 1.3))\n",
    "ax.plot(traj[:, 0].detach().cpu().numpy(), traj[:, 1].detach().cpu().numpy(), color='red')\n",
    "ax.axline(xy1=(-1.25, 0), xy2=(1.25, 0), color=\"k\")\n",
    "# ax.axhline(y=0, xmin=-2, xmax=1.75)\n",
    "# ax.axvline(x=1.75, ymin=0, ymax=1.75, color=\"k\")\n",
    "circle_ball = plt.Circle((-1., 1.0), 0.1, color='tab:blue', fill=True)\n",
    "ax.add_patch(circle_ball)\n",
    "# fig.savefig(os.path.join(FIG_DIR, \"bounce_once_traj.png\"), bbox_inches=\"tight\")"
   ]
  }
 ],
 "metadata": {
  "interpreter": {
   "hash": "4701d28a8e34107e6c8f4e084fe3eea1a59de01d2ff40419aa1cd2766c1455e2"
  },
  "kernelspec": {
   "display_name": "Python 3.8.10 64-bit ('diff_sim')",
   "language": "python",
   "name": "python3"
  },
  "language_info": {
   "codemirror_mode": {
    "name": "ipython",
    "version": 3
   },
   "file_extension": ".py",
   "mimetype": "text/x-python",
   "name": "python",
   "nbconvert_exporter": "python",
   "pygments_lexer": "ipython3",
   "version": "3.8.10"
  },
  "orig_nbformat": 4
 },
 "nbformat": 4,
 "nbformat_minor": 2
}
